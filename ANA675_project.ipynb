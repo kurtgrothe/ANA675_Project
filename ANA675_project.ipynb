{
  "cells": [
    {
      "cell_type": "markdown",
      "metadata": {
        "id": "view-in-github",
        "colab_type": "text"
      },
      "source": [
        "<a href=\"https://colab.research.google.com/github/kurtgrothe/ANA675_Project/blob/main/ANA675_project.ipynb\" target=\"_parent\"><img src=\"https://colab.research.google.com/assets/colab-badge.svg\" alt=\"Open In Colab\"/></a>"
      ]
    },
    {
      "cell_type": "markdown",
      "metadata": {
        "id": "tqtawKJaMyGv"
      },
      "source": [
        "### Boston Housing Prices\n",
        "\n",
        "Team Members:  \n",
        "Kurt Grothe  \n",
        "Kamika Hughes  \n",
        "Daniel Lagos  \n",
        "\n",
        "This project is a to predict the best price of a home in Boston for negotiating purposes"
      ]
    },
    {
      "cell_type": "markdown",
      "metadata": {
        "id": "rXjJvlZXMyGx"
      },
      "source": [
        "### Library Imports"
      ]
    },
    {
      "cell_type": "code",
      "execution_count": null,
      "metadata": {
        "id": "CLTnubpsMyGy"
      },
      "outputs": [],
      "source": [
        "import numpy as np\n",
        "import pandas as pd\n",
        "import matplotlib.pyplot as plt\n",
        "import seaborn as sns\n",
        "#from keras.utils import np_utils\n",
        "from sklearn.preprocessing import MinMaxScaler\n",
        "from sklearn.model_selection import train_test_split\n",
        "from sklearn.metrics import mean_squared_error, explained_variance_score\n",
        "from tensorflow import keras\n",
        "from keras import layers\n",
        "from keras.callbacks import EarlyStopping, ModelCheckpoint,ReduceLROnPlateau\n",
        "from tensorflow.keras.utils import plot_model\n",
        "#from IPython.display import Image\n",
        "#import tensorflow as tf"
      ]
    },
    {
      "cell_type": "markdown",
      "metadata": {
        "id": "WrBAIU4eMyGy"
      },
      "source": [
        "### Data Load/Split Data into Testing and Training"
      ]
    },
    {
      "cell_type": "code",
      "execution_count": null,
      "metadata": {
        "colab": {
          "base_uri": "https://localhost:8080/"
        },
        "id": "n7j8dkAmMyGz",
        "outputId": "1e0fc342-79ca-4706-d2d2-2cc1b3a40658"
      },
      "outputs": [
        {
          "name": "stdout",
          "output_type": "stream",
          "text": [
            "Downloading data from https://storage.googleapis.com/tensorflow/tf-keras-datasets/boston_housing.npz\n",
            "57026/57026 [==============================] - 0s 0us/step\n"
          ]
        }
      ],
      "source": [
        "# Import Data and Split into Testing and Training\n",
        "(x_train, y_train), (x_test, y_test) = keras.datasets.boston_housing.load_data(seed=42)"
      ]
    },
    {
      "cell_type": "markdown",
      "metadata": {
        "id": "7dnxlvqYMyGz"
      },
      "source": [
        "### Data Exploration"
      ]
    },
    {
      "cell_type": "code",
      "execution_count": null,
      "metadata": {
        "colab": {
          "base_uri": "https://localhost:8080/"
        },
        "id": "J3uwRdtIMyGz",
        "outputId": "95fc9c75-a094-42ad-ebfa-f08cdf1cd336"
      },
      "outputs": [
        {
          "name": "stdout",
          "output_type": "stream",
          "text": [
            "Data Shapes:\n",
            "x_train:(404, 13), y_train:(404,)\n",
            "x_test:(102, 13),  y_test:(102,)\n",
            "\n",
            "Data Types:\n",
            "x_train:<class 'numpy.ndarray'>, y_train:<class 'numpy.ndarray'>\n",
            "x_test:<class 'numpy.ndarray'>,  y_test:<class 'numpy.ndarray'>\n"
          ]
        }
      ],
      "source": [
        "print(\"Data Shapes:\")\n",
        "print(f\"x_train:{x_train.shape}, y_train:{y_train.shape}\\nx_test:{x_test.shape},  y_test:{y_test.shape}\")\n",
        "print()\n",
        "print(\"Data Types:\")\n",
        "print(f\"x_train:{type(x_train)}, y_train:{type(y_train)}\\nx_test:{type(x_test)},  y_test:{type(y_test)}\")"
      ]
    },
    {
      "cell_type": "markdown",
      "metadata": {
        "id": "_0OTq5WAMyG0"
      },
      "source": [
        "**Variables**  \n",
        " Crime:      per capita crime rate by town  \n",
        " Zone:       proportion of residential land zoned for lots over 25,000 sq.ft.  \n",
        " Indus:      proportion of non-retail business acres per town  \n",
        " River:      Charles River dummy variable (= 1 if tract bounds river; 0 otherwise)  \n",
        " Nox:        nitric oxides concentration (parts per 10 million)  \n",
        " Room_num:   average number of rooms per dwelling  \n",
        " Owner:      proportion of owner-occupied units built prior to 1940  \n",
        " Distance:   weighted distances to five Boston employment centres  \n",
        " Highway:    index of accessibility to radial highways  \n",
        " Tax:        full-value property-tax rate per \\\\$10,000  \n",
        " Teacher:    pupil-teacher ratio by town  \n",
        " Lstat:      % lower status of the population  \n",
        " medv:       Median value of owner-occupied homes in $1000's"
      ]
    },
    {
      "cell_type": "code",
      "execution_count": null,
      "metadata": {
        "colab": {
          "base_uri": "https://localhost:8080/",
          "height": 424
        },
        "id": "wSn_r5i2MyG0",
        "outputId": "d9b624e3-1d7f-4a1f-c4e6-69d330507c5a"
      },
      "outputs": [
        {
          "data": {
            "text/html": [
              "\n",
              "  <div id=\"df-a452f91d-92a0-4fc7-a402-a5295c9ed274\">\n",
              "    <div class=\"colab-df-container\">\n",
              "      <div>\n",
              "<style scoped>\n",
              "    .dataframe tbody tr th:only-of-type {\n",
              "        vertical-align: middle;\n",
              "    }\n",
              "\n",
              "    .dataframe tbody tr th {\n",
              "        vertical-align: top;\n",
              "    }\n",
              "\n",
              "    .dataframe thead th {\n",
              "        text-align: right;\n",
              "    }\n",
              "</style>\n",
              "<table border=\"1\" class=\"dataframe\">\n",
              "  <thead>\n",
              "    <tr style=\"text-align: right;\">\n",
              "      <th></th>\n",
              "      <th>Crime</th>\n",
              "      <th>Zone</th>\n",
              "      <th>Indus</th>\n",
              "      <th>River</th>\n",
              "      <th>Nox</th>\n",
              "      <th>Room_num</th>\n",
              "      <th>Owner</th>\n",
              "      <th>Distance</th>\n",
              "      <th>Highway</th>\n",
              "      <th>Tax</th>\n",
              "      <th>Teacher</th>\n",
              "      <th>Lstat</th>\n",
              "      <th>Medv</th>\n",
              "      <th>Price</th>\n",
              "    </tr>\n",
              "  </thead>\n",
              "  <tbody>\n",
              "    <tr>\n",
              "      <th>0</th>\n",
              "      <td>0.09178</td>\n",
              "      <td>0.0</td>\n",
              "      <td>4.05</td>\n",
              "      <td>0.0</td>\n",
              "      <td>0.510</td>\n",
              "      <td>6.416</td>\n",
              "      <td>84.1</td>\n",
              "      <td>2.6463</td>\n",
              "      <td>5.0</td>\n",
              "      <td>296.0</td>\n",
              "      <td>16.6</td>\n",
              "      <td>395.50</td>\n",
              "      <td>9.04</td>\n",
              "      <td>23.6</td>\n",
              "    </tr>\n",
              "    <tr>\n",
              "      <th>1</th>\n",
              "      <td>0.05644</td>\n",
              "      <td>40.0</td>\n",
              "      <td>6.41</td>\n",
              "      <td>1.0</td>\n",
              "      <td>0.447</td>\n",
              "      <td>6.758</td>\n",
              "      <td>32.9</td>\n",
              "      <td>4.0776</td>\n",
              "      <td>4.0</td>\n",
              "      <td>254.0</td>\n",
              "      <td>17.6</td>\n",
              "      <td>396.90</td>\n",
              "      <td>3.53</td>\n",
              "      <td>23.6</td>\n",
              "    </tr>\n",
              "    <tr>\n",
              "      <th>2</th>\n",
              "      <td>0.10574</td>\n",
              "      <td>0.0</td>\n",
              "      <td>27.74</td>\n",
              "      <td>0.0</td>\n",
              "      <td>0.609</td>\n",
              "      <td>5.983</td>\n",
              "      <td>98.8</td>\n",
              "      <td>1.8681</td>\n",
              "      <td>4.0</td>\n",
              "      <td>711.0</td>\n",
              "      <td>20.1</td>\n",
              "      <td>390.11</td>\n",
              "      <td>18.07</td>\n",
              "      <td>23.6</td>\n",
              "    </tr>\n",
              "    <tr>\n",
              "      <th>3</th>\n",
              "      <td>0.09164</td>\n",
              "      <td>0.0</td>\n",
              "      <td>10.81</td>\n",
              "      <td>0.0</td>\n",
              "      <td>0.413</td>\n",
              "      <td>6.065</td>\n",
              "      <td>7.8</td>\n",
              "      <td>5.2873</td>\n",
              "      <td>4.0</td>\n",
              "      <td>305.0</td>\n",
              "      <td>19.2</td>\n",
              "      <td>390.91</td>\n",
              "      <td>5.52</td>\n",
              "      <td>23.6</td>\n",
              "    </tr>\n",
              "    <tr>\n",
              "      <th>4</th>\n",
              "      <td>5.09017</td>\n",
              "      <td>0.0</td>\n",
              "      <td>18.10</td>\n",
              "      <td>0.0</td>\n",
              "      <td>0.713</td>\n",
              "      <td>6.297</td>\n",
              "      <td>91.8</td>\n",
              "      <td>2.3682</td>\n",
              "      <td>24.0</td>\n",
              "      <td>666.0</td>\n",
              "      <td>20.2</td>\n",
              "      <td>385.09</td>\n",
              "      <td>17.27</td>\n",
              "      <td>23.6</td>\n",
              "    </tr>\n",
              "    <tr>\n",
              "      <th>...</th>\n",
              "      <td>...</td>\n",
              "      <td>...</td>\n",
              "      <td>...</td>\n",
              "      <td>...</td>\n",
              "      <td>...</td>\n",
              "      <td>...</td>\n",
              "      <td>...</td>\n",
              "      <td>...</td>\n",
              "      <td>...</td>\n",
              "      <td>...</td>\n",
              "      <td>...</td>\n",
              "      <td>...</td>\n",
              "      <td>...</td>\n",
              "      <td>...</td>\n",
              "    </tr>\n",
              "    <tr>\n",
              "      <th>97</th>\n",
              "      <td>0.17120</td>\n",
              "      <td>0.0</td>\n",
              "      <td>8.56</td>\n",
              "      <td>0.0</td>\n",
              "      <td>0.520</td>\n",
              "      <td>5.836</td>\n",
              "      <td>91.9</td>\n",
              "      <td>2.2110</td>\n",
              "      <td>5.0</td>\n",
              "      <td>384.0</td>\n",
              "      <td>20.9</td>\n",
              "      <td>395.67</td>\n",
              "      <td>18.66</td>\n",
              "      <td>22.4</td>\n",
              "    </tr>\n",
              "    <tr>\n",
              "      <th>98</th>\n",
              "      <td>0.29916</td>\n",
              "      <td>20.0</td>\n",
              "      <td>6.96</td>\n",
              "      <td>0.0</td>\n",
              "      <td>0.464</td>\n",
              "      <td>5.856</td>\n",
              "      <td>42.1</td>\n",
              "      <td>4.4290</td>\n",
              "      <td>3.0</td>\n",
              "      <td>223.0</td>\n",
              "      <td>18.6</td>\n",
              "      <td>388.65</td>\n",
              "      <td>13.00</td>\n",
              "      <td>22.4</td>\n",
              "    </tr>\n",
              "    <tr>\n",
              "      <th>99</th>\n",
              "      <td>0.01501</td>\n",
              "      <td>80.0</td>\n",
              "      <td>2.01</td>\n",
              "      <td>0.0</td>\n",
              "      <td>0.435</td>\n",
              "      <td>6.635</td>\n",
              "      <td>29.7</td>\n",
              "      <td>8.3440</td>\n",
              "      <td>4.0</td>\n",
              "      <td>280.0</td>\n",
              "      <td>17.0</td>\n",
              "      <td>390.94</td>\n",
              "      <td>5.99</td>\n",
              "      <td>22.4</td>\n",
              "    </tr>\n",
              "    <tr>\n",
              "      <th>100</th>\n",
              "      <td>11.16040</td>\n",
              "      <td>0.0</td>\n",
              "      <td>18.10</td>\n",
              "      <td>0.0</td>\n",
              "      <td>0.740</td>\n",
              "      <td>6.629</td>\n",
              "      <td>94.6</td>\n",
              "      <td>2.1247</td>\n",
              "      <td>24.0</td>\n",
              "      <td>666.0</td>\n",
              "      <td>20.2</td>\n",
              "      <td>109.85</td>\n",
              "      <td>23.27</td>\n",
              "      <td>22.4</td>\n",
              "    </tr>\n",
              "    <tr>\n",
              "      <th>101</th>\n",
              "      <td>0.22876</td>\n",
              "      <td>0.0</td>\n",
              "      <td>8.56</td>\n",
              "      <td>0.0</td>\n",
              "      <td>0.520</td>\n",
              "      <td>6.405</td>\n",
              "      <td>85.4</td>\n",
              "      <td>2.7147</td>\n",
              "      <td>5.0</td>\n",
              "      <td>384.0</td>\n",
              "      <td>20.9</td>\n",
              "      <td>70.80</td>\n",
              "      <td>10.63</td>\n",
              "      <td>22.4</td>\n",
              "    </tr>\n",
              "  </tbody>\n",
              "</table>\n",
              "<p>506 rows × 14 columns</p>\n",
              "</div>\n",
              "      <button class=\"colab-df-convert\" onclick=\"convertToInteractive('df-a452f91d-92a0-4fc7-a402-a5295c9ed274')\"\n",
              "              title=\"Convert this dataframe to an interactive table.\"\n",
              "              style=\"display:none;\">\n",
              "        \n",
              "  <svg xmlns=\"http://www.w3.org/2000/svg\" height=\"24px\"viewBox=\"0 0 24 24\"\n",
              "       width=\"24px\">\n",
              "    <path d=\"M0 0h24v24H0V0z\" fill=\"none\"/>\n",
              "    <path d=\"M18.56 5.44l.94 2.06.94-2.06 2.06-.94-2.06-.94-.94-2.06-.94 2.06-2.06.94zm-11 1L8.5 8.5l.94-2.06 2.06-.94-2.06-.94L8.5 2.5l-.94 2.06-2.06.94zm10 10l.94 2.06.94-2.06 2.06-.94-2.06-.94-.94-2.06-.94 2.06-2.06.94z\"/><path d=\"M17.41 7.96l-1.37-1.37c-.4-.4-.92-.59-1.43-.59-.52 0-1.04.2-1.43.59L10.3 9.45l-7.72 7.72c-.78.78-.78 2.05 0 2.83L4 21.41c.39.39.9.59 1.41.59.51 0 1.02-.2 1.41-.59l7.78-7.78 2.81-2.81c.8-.78.8-2.07 0-2.86zM5.41 20L4 18.59l7.72-7.72 1.47 1.35L5.41 20z\"/>\n",
              "  </svg>\n",
              "      </button>\n",
              "      \n",
              "  <style>\n",
              "    .colab-df-container {\n",
              "      display:flex;\n",
              "      flex-wrap:wrap;\n",
              "      gap: 12px;\n",
              "    }\n",
              "\n",
              "    .colab-df-convert {\n",
              "      background-color: #E8F0FE;\n",
              "      border: none;\n",
              "      border-radius: 50%;\n",
              "      cursor: pointer;\n",
              "      display: none;\n",
              "      fill: #1967D2;\n",
              "      height: 32px;\n",
              "      padding: 0 0 0 0;\n",
              "      width: 32px;\n",
              "    }\n",
              "\n",
              "    .colab-df-convert:hover {\n",
              "      background-color: #E2EBFA;\n",
              "      box-shadow: 0px 1px 2px rgba(60, 64, 67, 0.3), 0px 1px 3px 1px rgba(60, 64, 67, 0.15);\n",
              "      fill: #174EA6;\n",
              "    }\n",
              "\n",
              "    [theme=dark] .colab-df-convert {\n",
              "      background-color: #3B4455;\n",
              "      fill: #D2E3FC;\n",
              "    }\n",
              "\n",
              "    [theme=dark] .colab-df-convert:hover {\n",
              "      background-color: #434B5C;\n",
              "      box-shadow: 0px 1px 3px 1px rgba(0, 0, 0, 0.15);\n",
              "      filter: drop-shadow(0px 1px 2px rgba(0, 0, 0, 0.3));\n",
              "      fill: #FFFFFF;\n",
              "    }\n",
              "  </style>\n",
              "\n",
              "      <script>\n",
              "        const buttonEl =\n",
              "          document.querySelector('#df-a452f91d-92a0-4fc7-a402-a5295c9ed274 button.colab-df-convert');\n",
              "        buttonEl.style.display =\n",
              "          google.colab.kernel.accessAllowed ? 'block' : 'none';\n",
              "\n",
              "        async function convertToInteractive(key) {\n",
              "          const element = document.querySelector('#df-a452f91d-92a0-4fc7-a402-a5295c9ed274');\n",
              "          const dataTable =\n",
              "            await google.colab.kernel.invokeFunction('convertToInteractive',\n",
              "                                                     [key], {});\n",
              "          if (!dataTable) return;\n",
              "\n",
              "          const docLinkHtml = 'Like what you see? Visit the ' +\n",
              "            '<a target=\"_blank\" href=https://colab.research.google.com/notebooks/data_table.ipynb>data table notebook</a>'\n",
              "            + ' to learn more about interactive tables.';\n",
              "          element.innerHTML = '';\n",
              "          dataTable['output_type'] = 'display_data';\n",
              "          await google.colab.output.renderOutput(dataTable, element);\n",
              "          const docLink = document.createElement('div');\n",
              "          docLink.innerHTML = docLinkHtml;\n",
              "          element.appendChild(docLink);\n",
              "        }\n",
              "      </script>\n",
              "    </div>\n",
              "  </div>\n",
              "  "
            ],
            "text/plain": [
              "        Crime  Zone  Indus  River    Nox  Room_num  Owner  Distance  Highway  \\\n",
              "0     0.09178   0.0   4.05    0.0  0.510     6.416   84.1    2.6463      5.0   \n",
              "1     0.05644  40.0   6.41    1.0  0.447     6.758   32.9    4.0776      4.0   \n",
              "2     0.10574   0.0  27.74    0.0  0.609     5.983   98.8    1.8681      4.0   \n",
              "3     0.09164   0.0  10.81    0.0  0.413     6.065    7.8    5.2873      4.0   \n",
              "4     5.09017   0.0  18.10    0.0  0.713     6.297   91.8    2.3682     24.0   \n",
              "..        ...   ...    ...    ...    ...       ...    ...       ...      ...   \n",
              "97    0.17120   0.0   8.56    0.0  0.520     5.836   91.9    2.2110      5.0   \n",
              "98    0.29916  20.0   6.96    0.0  0.464     5.856   42.1    4.4290      3.0   \n",
              "99    0.01501  80.0   2.01    0.0  0.435     6.635   29.7    8.3440      4.0   \n",
              "100  11.16040   0.0  18.10    0.0  0.740     6.629   94.6    2.1247     24.0   \n",
              "101   0.22876   0.0   8.56    0.0  0.520     6.405   85.4    2.7147      5.0   \n",
              "\n",
              "       Tax  Teacher   Lstat   Medv  Price  \n",
              "0    296.0     16.6  395.50   9.04   23.6  \n",
              "1    254.0     17.6  396.90   3.53   23.6  \n",
              "2    711.0     20.1  390.11  18.07   23.6  \n",
              "3    305.0     19.2  390.91   5.52   23.6  \n",
              "4    666.0     20.2  385.09  17.27   23.6  \n",
              "..     ...      ...     ...    ...    ...  \n",
              "97   384.0     20.9  395.67  18.66   22.4  \n",
              "98   223.0     18.6  388.65  13.00   22.4  \n",
              "99   280.0     17.0  390.94   5.99   22.4  \n",
              "100  666.0     20.2  109.85  23.27   22.4  \n",
              "101  384.0     20.9   70.80  10.63   22.4  \n",
              "\n",
              "[506 rows x 14 columns]"
            ]
          },
          "execution_count": 7,
          "metadata": {},
          "output_type": "execute_result"
        }
      ],
      "source": [
        "# Create Labels\n",
        "labels = ['Crime','Zone','Indus','River','Nox','Room_num','Owner','Distance','Highway','Tax','Teacher','Lstat','Medv']\n",
        "# Create Dataframe from train\n",
        "df = pd.DataFrame(x_train, columns=labels)\n",
        "df['Price'] = y_train[0]\n",
        "# Create Dataframe from test\n",
        "dfa = pd.DataFrame(x_test, columns=labels)\n",
        "dfa['Price'] = y_test[0]\n",
        "# Merge test to train df\n",
        "df = df.append(dfa)\n",
        "df"
      ]
    },
    {
      "cell_type": "code",
      "execution_count": null,
      "metadata": {
        "colab": {
          "base_uri": "https://localhost:8080/",
          "height": 364
        },
        "id": "aWggKOf9MyG1",
        "outputId": "8cb7def9-7eeb-4bf3-bd14-1208011831ff"
      },
      "outputs": [
        {
          "data": {
            "text/html": [
              "\n",
              "  <div id=\"df-c5b8dcfe-3b13-4ad7-a612-324b4b5b10e8\">\n",
              "    <div class=\"colab-df-container\">\n",
              "      <div>\n",
              "<style scoped>\n",
              "    .dataframe tbody tr th:only-of-type {\n",
              "        vertical-align: middle;\n",
              "    }\n",
              "\n",
              "    .dataframe tbody tr th {\n",
              "        vertical-align: top;\n",
              "    }\n",
              "\n",
              "    .dataframe thead th {\n",
              "        text-align: right;\n",
              "    }\n",
              "</style>\n",
              "<table border=\"1\" class=\"dataframe\">\n",
              "  <thead>\n",
              "    <tr style=\"text-align: right;\">\n",
              "      <th></th>\n",
              "      <th>Crime</th>\n",
              "      <th>Zone</th>\n",
              "      <th>Indus</th>\n",
              "      <th>River</th>\n",
              "      <th>Nox</th>\n",
              "      <th>Room_num</th>\n",
              "      <th>Owner</th>\n",
              "      <th>Distance</th>\n",
              "      <th>Highway</th>\n",
              "      <th>Tax</th>\n",
              "      <th>Teacher</th>\n",
              "      <th>Lstat</th>\n",
              "      <th>Medv</th>\n",
              "      <th>Price</th>\n",
              "    </tr>\n",
              "  </thead>\n",
              "  <tbody>\n",
              "    <tr>\n",
              "      <th>count</th>\n",
              "      <td>506.000000</td>\n",
              "      <td>506.000000</td>\n",
              "      <td>506.000000</td>\n",
              "      <td>506.000000</td>\n",
              "      <td>506.000000</td>\n",
              "      <td>506.000000</td>\n",
              "      <td>506.000000</td>\n",
              "      <td>506.000000</td>\n",
              "      <td>506.000000</td>\n",
              "      <td>506.000000</td>\n",
              "      <td>506.000000</td>\n",
              "      <td>506.000000</td>\n",
              "      <td>506.000000</td>\n",
              "      <td>506.000000</td>\n",
              "    </tr>\n",
              "    <tr>\n",
              "      <th>mean</th>\n",
              "      <td>3.613524</td>\n",
              "      <td>11.363636</td>\n",
              "      <td>11.136779</td>\n",
              "      <td>0.069170</td>\n",
              "      <td>0.554695</td>\n",
              "      <td>6.284634</td>\n",
              "      <td>68.574901</td>\n",
              "      <td>3.795043</td>\n",
              "      <td>9.549407</td>\n",
              "      <td>408.237154</td>\n",
              "      <td>18.455534</td>\n",
              "      <td>356.674032</td>\n",
              "      <td>12.653063</td>\n",
              "      <td>23.358103</td>\n",
              "    </tr>\n",
              "    <tr>\n",
              "      <th>std</th>\n",
              "      <td>8.601545</td>\n",
              "      <td>23.322453</td>\n",
              "      <td>6.860353</td>\n",
              "      <td>0.253994</td>\n",
              "      <td>0.115878</td>\n",
              "      <td>0.702617</td>\n",
              "      <td>28.148861</td>\n",
              "      <td>2.105710</td>\n",
              "      <td>8.707259</td>\n",
              "      <td>168.537116</td>\n",
              "      <td>2.164946</td>\n",
              "      <td>91.294864</td>\n",
              "      <td>7.141062</td>\n",
              "      <td>0.481893</td>\n",
              "    </tr>\n",
              "    <tr>\n",
              "      <th>min</th>\n",
              "      <td>0.006320</td>\n",
              "      <td>0.000000</td>\n",
              "      <td>0.460000</td>\n",
              "      <td>0.000000</td>\n",
              "      <td>0.385000</td>\n",
              "      <td>3.561000</td>\n",
              "      <td>2.900000</td>\n",
              "      <td>1.129600</td>\n",
              "      <td>1.000000</td>\n",
              "      <td>187.000000</td>\n",
              "      <td>12.600000</td>\n",
              "      <td>0.320000</td>\n",
              "      <td>1.730000</td>\n",
              "      <td>22.400000</td>\n",
              "    </tr>\n",
              "    <tr>\n",
              "      <th>25%</th>\n",
              "      <td>0.082045</td>\n",
              "      <td>0.000000</td>\n",
              "      <td>5.190000</td>\n",
              "      <td>0.000000</td>\n",
              "      <td>0.449000</td>\n",
              "      <td>5.885500</td>\n",
              "      <td>45.025000</td>\n",
              "      <td>2.100175</td>\n",
              "      <td>4.000000</td>\n",
              "      <td>279.000000</td>\n",
              "      <td>17.400000</td>\n",
              "      <td>375.377500</td>\n",
              "      <td>6.950000</td>\n",
              "      <td>23.600000</td>\n",
              "    </tr>\n",
              "    <tr>\n",
              "      <th>50%</th>\n",
              "      <td>0.256510</td>\n",
              "      <td>0.000000</td>\n",
              "      <td>9.690000</td>\n",
              "      <td>0.000000</td>\n",
              "      <td>0.538000</td>\n",
              "      <td>6.208500</td>\n",
              "      <td>77.500000</td>\n",
              "      <td>3.207450</td>\n",
              "      <td>5.000000</td>\n",
              "      <td>330.000000</td>\n",
              "      <td>19.050000</td>\n",
              "      <td>391.440000</td>\n",
              "      <td>11.360000</td>\n",
              "      <td>23.600000</td>\n",
              "    </tr>\n",
              "    <tr>\n",
              "      <th>75%</th>\n",
              "      <td>3.677083</td>\n",
              "      <td>12.500000</td>\n",
              "      <td>18.100000</td>\n",
              "      <td>0.000000</td>\n",
              "      <td>0.624000</td>\n",
              "      <td>6.623500</td>\n",
              "      <td>94.075000</td>\n",
              "      <td>5.188425</td>\n",
              "      <td>24.000000</td>\n",
              "      <td>666.000000</td>\n",
              "      <td>20.200000</td>\n",
              "      <td>396.225000</td>\n",
              "      <td>16.955000</td>\n",
              "      <td>23.600000</td>\n",
              "    </tr>\n",
              "    <tr>\n",
              "      <th>max</th>\n",
              "      <td>88.976200</td>\n",
              "      <td>100.000000</td>\n",
              "      <td>27.740000</td>\n",
              "      <td>1.000000</td>\n",
              "      <td>0.871000</td>\n",
              "      <td>8.780000</td>\n",
              "      <td>100.000000</td>\n",
              "      <td>12.126500</td>\n",
              "      <td>24.000000</td>\n",
              "      <td>711.000000</td>\n",
              "      <td>22.000000</td>\n",
              "      <td>396.900000</td>\n",
              "      <td>37.970000</td>\n",
              "      <td>23.600000</td>\n",
              "    </tr>\n",
              "  </tbody>\n",
              "</table>\n",
              "</div>\n",
              "      <button class=\"colab-df-convert\" onclick=\"convertToInteractive('df-c5b8dcfe-3b13-4ad7-a612-324b4b5b10e8')\"\n",
              "              title=\"Convert this dataframe to an interactive table.\"\n",
              "              style=\"display:none;\">\n",
              "        \n",
              "  <svg xmlns=\"http://www.w3.org/2000/svg\" height=\"24px\"viewBox=\"0 0 24 24\"\n",
              "       width=\"24px\">\n",
              "    <path d=\"M0 0h24v24H0V0z\" fill=\"none\"/>\n",
              "    <path d=\"M18.56 5.44l.94 2.06.94-2.06 2.06-.94-2.06-.94-.94-2.06-.94 2.06-2.06.94zm-11 1L8.5 8.5l.94-2.06 2.06-.94-2.06-.94L8.5 2.5l-.94 2.06-2.06.94zm10 10l.94 2.06.94-2.06 2.06-.94-2.06-.94-.94-2.06-.94 2.06-2.06.94z\"/><path d=\"M17.41 7.96l-1.37-1.37c-.4-.4-.92-.59-1.43-.59-.52 0-1.04.2-1.43.59L10.3 9.45l-7.72 7.72c-.78.78-.78 2.05 0 2.83L4 21.41c.39.39.9.59 1.41.59.51 0 1.02-.2 1.41-.59l7.78-7.78 2.81-2.81c.8-.78.8-2.07 0-2.86zM5.41 20L4 18.59l7.72-7.72 1.47 1.35L5.41 20z\"/>\n",
              "  </svg>\n",
              "      </button>\n",
              "      \n",
              "  <style>\n",
              "    .colab-df-container {\n",
              "      display:flex;\n",
              "      flex-wrap:wrap;\n",
              "      gap: 12px;\n",
              "    }\n",
              "\n",
              "    .colab-df-convert {\n",
              "      background-color: #E8F0FE;\n",
              "      border: none;\n",
              "      border-radius: 50%;\n",
              "      cursor: pointer;\n",
              "      display: none;\n",
              "      fill: #1967D2;\n",
              "      height: 32px;\n",
              "      padding: 0 0 0 0;\n",
              "      width: 32px;\n",
              "    }\n",
              "\n",
              "    .colab-df-convert:hover {\n",
              "      background-color: #E2EBFA;\n",
              "      box-shadow: 0px 1px 2px rgba(60, 64, 67, 0.3), 0px 1px 3px 1px rgba(60, 64, 67, 0.15);\n",
              "      fill: #174EA6;\n",
              "    }\n",
              "\n",
              "    [theme=dark] .colab-df-convert {\n",
              "      background-color: #3B4455;\n",
              "      fill: #D2E3FC;\n",
              "    }\n",
              "\n",
              "    [theme=dark] .colab-df-convert:hover {\n",
              "      background-color: #434B5C;\n",
              "      box-shadow: 0px 1px 3px 1px rgba(0, 0, 0, 0.15);\n",
              "      filter: drop-shadow(0px 1px 2px rgba(0, 0, 0, 0.3));\n",
              "      fill: #FFFFFF;\n",
              "    }\n",
              "  </style>\n",
              "\n",
              "      <script>\n",
              "        const buttonEl =\n",
              "          document.querySelector('#df-c5b8dcfe-3b13-4ad7-a612-324b4b5b10e8 button.colab-df-convert');\n",
              "        buttonEl.style.display =\n",
              "          google.colab.kernel.accessAllowed ? 'block' : 'none';\n",
              "\n",
              "        async function convertToInteractive(key) {\n",
              "          const element = document.querySelector('#df-c5b8dcfe-3b13-4ad7-a612-324b4b5b10e8');\n",
              "          const dataTable =\n",
              "            await google.colab.kernel.invokeFunction('convertToInteractive',\n",
              "                                                     [key], {});\n",
              "          if (!dataTable) return;\n",
              "\n",
              "          const docLinkHtml = 'Like what you see? Visit the ' +\n",
              "            '<a target=\"_blank\" href=https://colab.research.google.com/notebooks/data_table.ipynb>data table notebook</a>'\n",
              "            + ' to learn more about interactive tables.';\n",
              "          element.innerHTML = '';\n",
              "          dataTable['output_type'] = 'display_data';\n",
              "          await google.colab.output.renderOutput(dataTable, element);\n",
              "          const docLink = document.createElement('div');\n",
              "          docLink.innerHTML = docLinkHtml;\n",
              "          element.appendChild(docLink);\n",
              "        }\n",
              "      </script>\n",
              "    </div>\n",
              "  </div>\n",
              "  "
            ],
            "text/plain": [
              "            Crime        Zone       Indus       River         Nox    Room_num  \\\n",
              "count  506.000000  506.000000  506.000000  506.000000  506.000000  506.000000   \n",
              "mean     3.613524   11.363636   11.136779    0.069170    0.554695    6.284634   \n",
              "std      8.601545   23.322453    6.860353    0.253994    0.115878    0.702617   \n",
              "min      0.006320    0.000000    0.460000    0.000000    0.385000    3.561000   \n",
              "25%      0.082045    0.000000    5.190000    0.000000    0.449000    5.885500   \n",
              "50%      0.256510    0.000000    9.690000    0.000000    0.538000    6.208500   \n",
              "75%      3.677083   12.500000   18.100000    0.000000    0.624000    6.623500   \n",
              "max     88.976200  100.000000   27.740000    1.000000    0.871000    8.780000   \n",
              "\n",
              "            Owner    Distance     Highway         Tax     Teacher       Lstat  \\\n",
              "count  506.000000  506.000000  506.000000  506.000000  506.000000  506.000000   \n",
              "mean    68.574901    3.795043    9.549407  408.237154   18.455534  356.674032   \n",
              "std     28.148861    2.105710    8.707259  168.537116    2.164946   91.294864   \n",
              "min      2.900000    1.129600    1.000000  187.000000   12.600000    0.320000   \n",
              "25%     45.025000    2.100175    4.000000  279.000000   17.400000  375.377500   \n",
              "50%     77.500000    3.207450    5.000000  330.000000   19.050000  391.440000   \n",
              "75%     94.075000    5.188425   24.000000  666.000000   20.200000  396.225000   \n",
              "max    100.000000   12.126500   24.000000  711.000000   22.000000  396.900000   \n",
              "\n",
              "             Medv       Price  \n",
              "count  506.000000  506.000000  \n",
              "mean    12.653063   23.358103  \n",
              "std      7.141062    0.481893  \n",
              "min      1.730000   22.400000  \n",
              "25%      6.950000   23.600000  \n",
              "50%     11.360000   23.600000  \n",
              "75%     16.955000   23.600000  \n",
              "max     37.970000   23.600000  "
            ]
          },
          "execution_count": 8,
          "metadata": {},
          "output_type": "execute_result"
        }
      ],
      "source": [
        "# Summary stats\n",
        "df.describe()"
      ]
    },
    {
      "cell_type": "code",
      "execution_count": null,
      "metadata": {
        "colab": {
          "base_uri": "https://localhost:8080/",
          "height": 691
        },
        "id": "HqECCKaeMyG1",
        "outputId": "e93821a6-66dc-4d5b-9374-08ca0b5523fc"
      },
      "outputs": [
        {
          "data": {
            "image/png": "[encoded data removed]",
            "text/plain": [
              "<Figure size 792x792 with 1 Axes>"
            ]
          },
          "metadata": {
            "needs_background": "light"
          },
          "output_type": "display_data"
        }
      ],
      "source": [
        "# Correlatoin Matrix\n",
        "matrix = df.corr().round(2)\n",
        "fig, ax = plt.subplots(figsize=(11, 11))\n",
        "sns.heatmap(matrix, annot=True,cbar=False,cmap='vlag')\n",
        "plt.show()"
      ]
    },
    {
      "cell_type": "markdown",
      "metadata": {
        "id": "uCPmavJuMyG1"
      },
      "source": [
        "### Normalize data"
      ]
    },
    {
      "cell_type": "code",
      "execution_count": null,
      "metadata": {
        "id": "f2ZO--gAMyG2"
      },
      "outputs": [],
      "source": [
        "scaler = MinMaxScaler()\n",
        "# Scale images to the [0, 1] range\n",
        "x_train_scaled = scaler.fit_transform(x_train)\n",
        "x_test_scaled = scaler.transform(x_test)"
      ]
    },
    {
      "cell_type": "code",
      "execution_count": null,
      "metadata": {
        "colab": {
          "base_uri": "https://localhost:8080/"
        },
        "id": "SRLkD16uMyG2",
        "outputId": "fa9adfef-c011-4c29-f0a3-f9d055927652"
      },
      "outputs": [
        {
          "name": "stdout",
          "output_type": "stream",
          "text": [
            "0     0.0\n",
            "1     0.0\n",
            "2     0.0\n",
            "3     0.0\n",
            "4     0.0\n",
            "5     0.0\n",
            "6     0.0\n",
            "7     0.0\n",
            "8     0.0\n",
            "9     0.0\n",
            "10    0.0\n",
            "11    0.0\n",
            "12    0.0\n",
            "dtype: float64 0     1.0\n",
            "1     1.0\n",
            "2     1.0\n",
            "3     1.0\n",
            "4     1.0\n",
            "5     1.0\n",
            "6     1.0\n",
            "7     1.0\n",
            "8     1.0\n",
            "9     1.0\n",
            "10    1.0\n",
            "11    1.0\n",
            "12    1.0\n",
            "dtype: float64\n"
          ]
        }
      ],
      "source": [
        "# Check that Data was scaled properly with Min at 0 and Max at 1\n",
        "print(pd.DataFrame(x_train_scaled).min(),pd.DataFrame(x_train_scaled).max())"
      ]
    },
    {
      "cell_type": "markdown",
      "metadata": {
        "id": "HKXK_t95MyG2"
      },
      "source": [
        "### Neural Network"
      ]
    },
    {
      "cell_type": "code",
      "execution_count": null,
      "metadata": {
        "id": "rmkAQ_wVN3dz"
      },
      "outputs": [],
      "source": [
        "# Function to keep track of models and parameters\n",
        "def model_compare(annlayers,history_models):\n",
        "    single_model= pd.DataFrame()\n",
        "    inc_a,inc_b = 0,1    \n",
        "    for i,layer in zip(range(len(annlayers)),annlayers):\n",
        "        single_model.loc[0,i+inc_a] = layer.output_shape[1]\n",
        "        single_model.loc[0,i+inc_b] = layer.activation     \n",
        "        inc_a += 1 \n",
        "        inc_b += 1\n",
        "            \n",
        "    # Run predictions for comparison    \n",
        "    predictions = ann.predict(x_test,verbose=False)\n",
        "    # Calculate and Append MSE to location 0\n",
        "    single_model.loc[0,0] = np.sqrt(mean_squared_error(y_test,predictions))\n",
        "    # Append loss function to location 1\n",
        "    single_model.loc[0,1] = ann.history.model.loss\n",
        "    # Append to Single Model to History\n",
        "    history_models = history_models.append(single_model,ignore_index=True)\n",
        "    return history_models"
      ]
    },
    {
      "cell_type": "code",
      "execution_count": null,
      "metadata": {
        "id": "vQYM-qaWMyG2"
      },
      "outputs": [],
      "source": [
        "batch_size = 32\n",
        "epochs = 150\n",
        "input_shape = 13\n",
        "\n",
        "# Call Backs\n",
        "early_stopping = EarlyStopping(monitor='val_loss', \n",
        "                               patience=3, \n",
        "                               verbose=1, \n",
        "                               restore_best_weights=True)\n",
        "checkpoint = ModelCheckpoint(\"/Users/imac/Desktop/ANA675/\", save_format=\"h5\",\n",
        "                             monitor='val_loss', \n",
        "                             mode='min',\n",
        "                             save_best_only=True, \n",
        "                             verbose=1)\n",
        "learning_rate = ReduceLROnPlateau(monitor='val_loss',\n",
        "                            factor=0.2,\n",
        "                            patience=3,\n",
        "                            verbose=1,)\n",
        "callbacks = [checkpoint,early_stopping,learning_rate]\n",
        "opt = keras.optimizers.Adam(learning_rate=0.0001,beta_1=0.9,beta_2=0.999,epsilon=1e-09,amsgrad=False,)\n"
      ]
    },
    {
      "cell_type": "code",
      "execution_count": null,
      "metadata": {
        "id": "vmcXGOMcMyG2",
        "outputId": "a7f540ff-cab2-410f-94ea-eff45b411a81"
      },
      "outputs": [
        {
          "name": "stdout",
          "output_type": "stream",
          "text": [
            "Model: \"sequential_10\"\n",
            "_________________________________________________________________\n",
            " Layer (type)                Output Shape              Param #   \n",
            "=================================================================\n",
            " dense_50 (Dense)            (None, 100)               1400      \n",
            "                                                                 \n",
            " dense_51 (Dense)            (None, 150)               15150     \n",
            "                                                                 \n",
            " dense_52 (Dense)            (None, 300)               45300     \n",
            "                                                                 \n",
            " dense_53 (Dense)            (None, 600)               180600    \n",
            "                                                                 \n",
            " dense_54 (Dense)            (None, 1)                 601       \n",
            "                                                                 \n",
            "=================================================================\n",
            "Total params: 243,051\n",
            "Trainable params: 243,051\n",
            "Non-trainable params: 0\n",
            "_________________________________________________________________\n"
          ]
        }
      ],
      "source": [
        "ann = keras.Sequential(\n",
        "    [\n",
        "        keras.Input(shape=input_shape),\n",
        "        \n",
        "        keras.layers.Dense(100, activation=\"relu\"),\n",
        "        keras.layers.Dense(150, activation=\"relu\"),\n",
        "        keras.layers.Dense(300, activation=\"relu\"),        \n",
        "        keras.layers.Dense(600, activation=\"relu\"),        \n",
        "        layers.Dense(1)\n",
        "    ]\n",
        ")\n",
        "ann.summary()\n",
        "ann.compile(loss=\"mse\", optimizer=opt)\n",
        "\n",
        "history_models = model_compare(ann.layers, history_models)\n",
        "#history_models.to_excel(\"../../Desktop/history.xlsx\") # change your path to view excel"
      ]
    },
    {
      "cell_type": "code",
      "execution_count": null,
      "metadata": {
        "id": "9YLZx3uOMyG2",
        "outputId": "600f9e89-c4ba-4e36-8a8c-ec91215c0d56"
      },
      "outputs": [
        {
          "name": "stdout",
          "output_type": "stream",
          "text": [
            "Epoch 1/150\n",
            " 1/12 [=>............................] - ETA: 4s - loss: 402.8843\n",
            "Epoch 1: val_loss improved from inf to 82.35939, saving model to /Users/imac/Desktop/ANA675/\n",
            "INFO:tensorflow:Assets written to: /Users/imac/Desktop/ANA675/assets\n",
            "12/12 [==============================] - 1s 81ms/step - loss: 185.5012 - val_loss: 82.3594 - lr: 1.0000e-04\n",
            "Epoch 2/150\n",
            " 1/12 [=>............................] - ETA: 0s - loss: 75.0752\n",
            "Epoch 2: val_loss improved from 82.35939 to 78.14849, saving model to /Users/imac/Desktop/ANA675/\n",
            "INFO:tensorflow:Assets written to: /Users/imac/Desktop/ANA675/assets\n",
            "12/12 [==============================] - 1s 74ms/step - loss: 84.1935 - val_loss: 78.1485 - lr: 1.0000e-04\n",
            "Epoch 3/150\n",
            " 1/12 [=>............................] - ETA: 0s - loss: 65.7205\n",
            "Epoch 3: val_loss improved from 78.14849 to 73.57870, saving model to /Users/imac/Desktop/ANA675/\n",
            "INFO:tensorflow:Assets written to: /Users/imac/Desktop/ANA675/assets\n",
            "12/12 [==============================] - 1s 73ms/step - loss: 74.5893 - val_loss: 73.5787 - lr: 1.0000e-04\n",
            "Epoch 4/150\n",
            " 1/12 [=>............................] - ETA: 0s - loss: 89.6415\n",
            "Epoch 4: val_loss did not improve from 73.57870\n",
            "12/12 [==============================] - 0s 6ms/step - loss: 67.1227 - val_loss: 74.6631 - lr: 1.0000e-04\n",
            "Epoch 5/150\n",
            " 1/12 [=>............................] - ETA: 0s - loss: 64.0452\n",
            "Epoch 5: val_loss improved from 73.57870 to 68.91703, saving model to /Users/imac/Desktop/ANA675/\n",
            "INFO:tensorflow:Assets written to: /Users/imac/Desktop/ANA675/assets\n",
            "12/12 [==============================] - 1s 74ms/step - loss: 62.3599 - val_loss: 68.9170 - lr: 1.0000e-04\n",
            "Epoch 6/150\n",
            " 1/12 [=>............................] - ETA: 0s - loss: 34.6678\n",
            "Epoch 6: val_loss did not improve from 68.91703\n",
            "12/12 [==============================] - 0s 6ms/step - loss: 60.6996 - val_loss: 76.8947 - lr: 1.0000e-04\n",
            "Epoch 7/150\n",
            " 1/12 [=>............................] - ETA: 0s - loss: 52.0499\n",
            "Epoch 7: val_loss did not improve from 68.91703\n",
            "12/12 [==============================] - 0s 6ms/step - loss: 66.4007 - val_loss: 69.1062 - lr: 1.0000e-04\n",
            "Epoch 8/150\n",
            " 1/12 [=>............................] - ETA: 0s - loss: 27.5219\n",
            "Epoch 8: val_loss improved from 68.91703 to 67.02381, saving model to /Users/imac/Desktop/ANA675/\n",
            "INFO:tensorflow:Assets written to: /Users/imac/Desktop/ANA675/assets\n",
            "12/12 [==============================] - 1s 73ms/step - loss: 59.2583 - val_loss: 67.0238 - lr: 1.0000e-04\n",
            "Epoch 9/150\n",
            " 5/12 [===========>..................] - ETA: 0s - loss: 61.6635\n",
            "Epoch 9: val_loss improved from 67.02381 to 65.66776, saving model to /Users/imac/Desktop/ANA675/\n",
            "INFO:tensorflow:Assets written to: /Users/imac/Desktop/ANA675/assets\n",
            "12/12 [==============================] - 1s 77ms/step - loss: 57.9639 - val_loss: 65.6678 - lr: 1.0000e-04\n",
            "Epoch 10/150\n",
            " 1/12 [=>............................] - ETA: 0s - loss: 31.6227\n",
            "Epoch 10: val_loss did not improve from 65.66776\n",
            "12/12 [==============================] - 0s 6ms/step - loss: 57.5569 - val_loss: 68.7979 - lr: 1.0000e-04\n",
            "Epoch 11/150\n",
            " 1/12 [=>............................] - ETA: 0s - loss: 34.4866\n",
            "Epoch 11: val_loss improved from 65.66776 to 64.38161, saving model to /Users/imac/Desktop/ANA675/\n",
            "INFO:tensorflow:Assets written to: /Users/imac/Desktop/ANA675/assets\n",
            "12/12 [==============================] - 1s 133ms/step - loss: 58.9378 - val_loss: 64.3816 - lr: 1.0000e-04\n",
            "Epoch 12/150\n",
            "12/12 [==============================] - ETA: 0s - loss: 57.1942\n",
            "Epoch 12: val_loss improved from 64.38161 to 64.25028, saving model to /Users/imac/Desktop/ANA675/\n",
            "INFO:tensorflow:Assets written to: /Users/imac/Desktop/ANA675/assets\n",
            "12/12 [==============================] - 1s 95ms/step - loss: 57.1942 - val_loss: 64.2503 - lr: 1.0000e-04\n",
            "Epoch 13/150\n",
            " 1/12 [=>............................] - ETA: 0s - loss: 43.6469\n",
            "Epoch 13: val_loss did not improve from 64.25028\n",
            "12/12 [==============================] - 0s 7ms/step - loss: 55.5389 - val_loss: 64.7444 - lr: 1.0000e-04\n",
            "Epoch 14/150\n",
            " 1/12 [=>............................] - ETA: 0s - loss: 48.7497\n",
            "Epoch 14: val_loss improved from 64.25028 to 64.02776, saving model to /Users/imac/Desktop/ANA675/\n",
            "INFO:tensorflow:Assets written to: /Users/imac/Desktop/ANA675/assets\n",
            "12/12 [==============================] - 1s 83ms/step - loss: 55.8628 - val_loss: 64.0278 - lr: 1.0000e-04\n",
            "Epoch 15/150\n",
            " 1/12 [=>............................] - ETA: 0s - loss: 34.9443\n",
            "Epoch 15: val_loss improved from 64.02776 to 63.37519, saving model to /Users/imac/Desktop/ANA675/\n",
            "INFO:tensorflow:Assets written to: /Users/imac/Desktop/ANA675/assets\n",
            "12/12 [==============================] - 1s 81ms/step - loss: 55.8896 - val_loss: 63.3752 - lr: 1.0000e-04\n",
            "Epoch 16/150\n",
            " 9/12 [=====================>........] - ETA: 0s - loss: 56.0478\n",
            "Epoch 16: val_loss did not improve from 63.37519\n",
            "12/12 [==============================] - 0s 9ms/step - loss: 55.7539 - val_loss: 63.8865 - lr: 1.0000e-04\n",
            "Epoch 17/150\n",
            " 1/12 [=>............................] - ETA: 0s - loss: 37.5930\n",
            "Epoch 17: val_loss did not improve from 63.37519\n",
            "12/12 [==============================] - 0s 7ms/step - loss: 53.5494 - val_loss: 64.8383 - lr: 1.0000e-04\n",
            "Epoch 18/150\n",
            " 1/12 [=>............................] - ETA: 0s - loss: 57.9063\n",
            "Epoch 18: val_loss improved from 63.37519 to 62.28177, saving model to /Users/imac/Desktop/ANA675/\n",
            "INFO:tensorflow:Assets written to: /Users/imac/Desktop/ANA675/assets\n",
            "12/12 [==============================] - 1s 82ms/step - loss: 53.0678 - val_loss: 62.2818 - lr: 1.0000e-04\n",
            "Epoch 19/150\n",
            " 1/12 [=>............................] - ETA: 0s - loss: 85.9194\n",
            "Epoch 19: val_loss did not improve from 62.28177\n",
            "12/12 [==============================] - 0s 6ms/step - loss: 51.9836 - val_loss: 62.3948 - lr: 1.0000e-04\n",
            "Epoch 20/150\n",
            " 1/12 [=>............................] - ETA: 0s - loss: 65.6080\n",
            "Epoch 20: val_loss improved from 62.28177 to 61.47836, saving model to /Users/imac/Desktop/ANA675/\n",
            "INFO:tensorflow:Assets written to: /Users/imac/Desktop/ANA675/assets\n",
            "12/12 [==============================] - 1s 69ms/step - loss: 51.6594 - val_loss: 61.4784 - lr: 1.0000e-04\n",
            "Epoch 21/150\n",
            " 1/12 [=>............................] - ETA: 0s - loss: 56.4095\n",
            "Epoch 21: val_loss did not improve from 61.47836\n",
            "12/12 [==============================] - 0s 7ms/step - loss: 50.3961 - val_loss: 62.1173 - lr: 1.0000e-04\n",
            "Epoch 22/150\n",
            " 1/12 [=>............................] - ETA: 0s - loss: 19.2774\n",
            "Epoch 22: val_loss improved from 61.47836 to 60.44635, saving model to /Users/imac/Desktop/ANA675/\n",
            "INFO:tensorflow:Assets written to: /Users/imac/Desktop/ANA675/assets\n",
            "12/12 [==============================] - 1s 71ms/step - loss: 53.1945 - val_loss: 60.4464 - lr: 1.0000e-04\n",
            "Epoch 23/150\n",
            " 1/12 [=>............................] - ETA: 0s - loss: 67.6571\n",
            "Epoch 23: val_loss improved from 60.44635 to 59.56918, saving model to /Users/imac/Desktop/ANA675/\n",
            "INFO:tensorflow:Assets written to: /Users/imac/Desktop/ANA675/assets\n",
            "12/12 [==============================] - 1s 80ms/step - loss: 52.5324 - val_loss: 59.5692 - lr: 1.0000e-04\n",
            "Epoch 24/150\n",
            " 1/12 [=>............................] - ETA: 0s - loss: 32.9877\n",
            "Epoch 24: val_loss did not improve from 59.56918\n",
            "12/12 [==============================] - 0s 7ms/step - loss: 49.1504 - val_loss: 62.4437 - lr: 1.0000e-04\n",
            "Epoch 25/150\n",
            " 1/12 [=>............................] - ETA: 0s - loss: 103.9816\n",
            "Epoch 25: val_loss did not improve from 59.56918\n",
            "12/12 [==============================] - 0s 7ms/step - loss: 49.8234 - val_loss: 60.8841 - lr: 1.0000e-04\n",
            "Epoch 26/150\n",
            " 1/12 [=>............................] - ETA: 0s - loss: 68.5616\n",
            "Epoch 26: val_loss improved from 59.56918 to 58.60150, saving model to /Users/imac/Desktop/ANA675/\n",
            "INFO:tensorflow:Assets written to: /Users/imac/Desktop/ANA675/assets\n",
            "12/12 [==============================] - 1s 73ms/step - loss: 49.5870 - val_loss: 58.6015 - lr: 1.0000e-04\n",
            "Epoch 27/150\n",
            " 1/12 [=>............................] - ETA: 0s - loss: 62.2525\n",
            "Epoch 27: val_loss did not improve from 58.60150\n",
            "12/12 [==============================] - 0s 6ms/step - loss: 46.8076 - val_loss: 59.8298 - lr: 1.0000e-04\n",
            "Epoch 28/150\n",
            " 1/12 [=>............................] - ETA: 0s - loss: 33.2382\n",
            "Epoch 28: val_loss improved from 58.60150 to 58.03736, saving model to /Users/imac/Desktop/ANA675/\n",
            "INFO:tensorflow:Assets written to: /Users/imac/Desktop/ANA675/assets\n",
            "12/12 [==============================] - 1s 80ms/step - loss: 48.1190 - val_loss: 58.0374 - lr: 1.0000e-04\n",
            "Epoch 29/150\n",
            " 1/12 [=>............................] - ETA: 0s - loss: 30.3264\n",
            "Epoch 29: val_loss did not improve from 58.03736\n",
            "12/12 [==============================] - 0s 7ms/step - loss: 46.6747 - val_loss: 58.9616 - lr: 1.0000e-04\n",
            "Epoch 30/150\n",
            " 1/12 [=>............................] - ETA: 0s - loss: 28.9071\n",
            "Epoch 30: val_loss improved from 58.03736 to 57.36759, saving model to /Users/imac/Desktop/ANA675/\n",
            "INFO:tensorflow:Assets written to: /Users/imac/Desktop/ANA675/assets\n",
            "12/12 [==============================] - 1s 66ms/step - loss: 45.0639 - val_loss: 57.3676 - lr: 1.0000e-04\n",
            "Epoch 31/150\n",
            " 1/12 [=>............................] - ETA: 0s - loss: 41.4098\n",
            "Epoch 31: val_loss did not improve from 57.36759\n",
            "12/12 [==============================] - 0s 6ms/step - loss: 44.8748 - val_loss: 65.1039 - lr: 1.0000e-04\n",
            "Epoch 32/150\n",
            " 1/12 [=>............................] - ETA: 0s - loss: 40.9769\n",
            "Epoch 32: val_loss did not improve from 57.36759\n",
            "12/12 [==============================] - 0s 6ms/step - loss: 45.9398 - val_loss: 73.4125 - lr: 1.0000e-04\n",
            "Epoch 33/150\n",
            " 1/12 [=>............................] - ETA: 0s - loss: 47.1958\n",
            "Epoch 33: val_loss did not improve from 57.36759\n",
            "Restoring model weights from the end of the best epoch: 30.\n",
            "\n",
            "Epoch 33: ReduceLROnPlateau reducing learning rate to 1.9999999494757503e-05.\n",
            "12/12 [==============================] - 0s 6ms/step - loss: 57.3405 - val_loss: 75.9357 - lr: 1.0000e-04\n",
            "Epoch 33: early stopping\n"
          ]
        }
      ],
      "source": [
        "history = ann.fit(x_train, y_train, batch_size=batch_size, \n",
        "                  epochs=epochs, validation_split=0.1,\n",
        "                  callbacks=callbacks)"
      ]
    },
    {
      "cell_type": "code",
      "execution_count": null,
      "metadata": {
        "id": "2w2XzziIMyG3",
        "outputId": "94fe83b1-c887-4f4d-bd7b-b51a6011dd62"
      },
      "outputs": [
        {
          "data": {
            "text/plain": [
              "<matplotlib.legend.Legend at 0x7fe633bdadf0>"
            ]
          },
          "execution_count": 183,
          "metadata": {},
          "output_type": "execute_result"
        },
        {
          "data": {
            "image/png": "[encoded data removed]",
            "text/plain": [
              "<Figure size 432x288 with 1 Axes>"
            ]
          },
          "metadata": {
            "needs_background": "light"
          },
          "output_type": "display_data"
        }
      ],
      "source": [
        "loss = history.history['loss']\n",
        "val_loss = history.history['val_loss']\n",
        "x = np.arange(0,len(history.epoch))\n",
        "plt.plot( x,val_loss,label='Validation Loss')\n",
        "plt.plot( x,loss, label='Loss')\n",
        "plt.xlabel('Epochs')\n",
        "plt.ylabel('Loss')\n",
        "plt.legend()"
      ]
    },
    {
      "cell_type": "code",
      "execution_count": null,
      "metadata": {
        "id": "85JyradMMyG3",
        "outputId": "c88b3e90-2e96-40fe-c76c-5875a51f6a87"
      },
      "outputs": [
        {
          "name": "stdout",
          "output_type": "stream",
          "text": [
            "4/4 [==============================] - 0s 2ms/step\n"
          ]
        }
      ],
      "source": [
        "predictions = ann.predict(x_test)"
      ]
    },
    {
      "cell_type": "code",
      "execution_count": null,
      "metadata": {
        "id": "-2cTMpd3MyG3",
        "outputId": "2fede5c5-c6ed-4dfe-be0c-dc50120ab434"
      },
      "outputs": [
        {
          "data": {
            "text/plain": [
              "7.130042018444781"
            ]
          },
          "execution_count": 189,
          "metadata": {},
          "output_type": "execute_result"
        }
      ],
      "source": [
        "np.sqrt(mean_squared_error(y_test,predictions))"
      ]
    },
    {
      "cell_type": "code",
      "execution_count": null,
      "metadata": {
        "id": "JvP8YOLcMyG3",
        "outputId": "66d6e51e-1bb6-4fe6-ace6-9f67be5a40fc"
      },
      "outputs": [
        {
          "data": {
            "text/html": [
              "<div>\n",
              "<style scoped>\n",
              "    .dataframe tbody tr th:only-of-type {\n",
              "        vertical-align: middle;\n",
              "    }\n",
              "\n",
              "    .dataframe tbody tr th {\n",
              "        vertical-align: top;\n",
              "    }\n",
              "\n",
              "    .dataframe thead th {\n",
              "        text-align: right;\n",
              "    }\n",
              "</style>\n",
              "<table border=\"1\" class=\"dataframe\">\n",
              "  <thead>\n",
              "    <tr style=\"text-align: right;\">\n",
              "      <th></th>\n",
              "      <th>Test</th>\n",
              "      <th>Predictions</th>\n",
              "      <th>Error</th>\n",
              "      <th>Error_pctg</th>\n",
              "    </tr>\n",
              "  </thead>\n",
              "  <tbody>\n",
              "    <tr>\n",
              "      <th>count</th>\n",
              "      <td>102.000000</td>\n",
              "      <td>102.000000</td>\n",
              "      <td>102.000000</td>\n",
              "      <td>102.000000</td>\n",
              "    </tr>\n",
              "    <tr>\n",
              "      <th>mean</th>\n",
              "      <td>22.640196</td>\n",
              "      <td>22.893684</td>\n",
              "      <td>4.812560</td>\n",
              "      <td>0.227358</td>\n",
              "    </tr>\n",
              "    <tr>\n",
              "      <th>std</th>\n",
              "      <td>8.479798</td>\n",
              "      <td>5.195599</td>\n",
              "      <td>5.286851</td>\n",
              "      <td>0.248334</td>\n",
              "    </tr>\n",
              "    <tr>\n",
              "      <th>min</th>\n",
              "      <td>7.200000</td>\n",
              "      <td>11.042565</td>\n",
              "      <td>0.100097</td>\n",
              "      <td>0.004036</td>\n",
              "    </tr>\n",
              "    <tr>\n",
              "      <th>25%</th>\n",
              "      <td>18.925000</td>\n",
              "      <td>19.320990</td>\n",
              "      <td>1.840109</td>\n",
              "      <td>0.087656</td>\n",
              "    </tr>\n",
              "    <tr>\n",
              "      <th>50%</th>\n",
              "      <td>21.400000</td>\n",
              "      <td>23.987906</td>\n",
              "      <td>3.388007</td>\n",
              "      <td>0.141625</td>\n",
              "    </tr>\n",
              "    <tr>\n",
              "      <th>75%</th>\n",
              "      <td>24.650000</td>\n",
              "      <td>26.492663</td>\n",
              "      <td>6.483504</td>\n",
              "      <td>0.271693</td>\n",
              "    </tr>\n",
              "    <tr>\n",
              "      <th>max</th>\n",
              "      <td>50.000000</td>\n",
              "      <td>35.218578</td>\n",
              "      <td>30.622368</td>\n",
              "      <td>1.512444</td>\n",
              "    </tr>\n",
              "  </tbody>\n",
              "</table>\n",
              "</div>"
            ],
            "text/plain": [
              "             Test  Predictions       Error  Error_pctg\n",
              "count  102.000000   102.000000  102.000000  102.000000\n",
              "mean    22.640196    22.893684    4.812560    0.227358\n",
              "std      8.479798     5.195599    5.286851    0.248334\n",
              "min      7.200000    11.042565    0.100097    0.004036\n",
              "25%     18.925000    19.320990    1.840109    0.087656\n",
              "50%     21.400000    23.987906    3.388007    0.141625\n",
              "75%     24.650000    26.492663    6.483504    0.271693\n",
              "max     50.000000    35.218578   30.622368    1.512444"
            ]
          },
          "execution_count": 209,
          "metadata": {},
          "output_type": "execute_result"
        }
      ],
      "source": [
        "results = pd.DataFrame(y_test,columns=['Test'])\n",
        "results['Predictions'] = pd.DataFrame(predictions)\n",
        "results['Error'] = abs(results['Predictions']-results['Test'])\n",
        "results['Error_pctg'] = results['Error']/results['Test']\n",
        "results.describe()"
      ]
    },
    {
      "cell_type": "code",
      "execution_count": null,
      "metadata": {
        "id": "CJ07VvOrMyG3",
        "outputId": "64916b1f-cb2a-41bd-935b-ee8ca751154c"
      },
      "outputs": [
        {
          "data": {
            "text/plain": [
              "0.2869127922958232"
            ]
          },
          "execution_count": 215,
          "metadata": {},
          "output_type": "execute_result"
        }
      ],
      "source": [
        "explained_variance_score(y_test,predictions)"
      ]
    },
    {
      "cell_type": "code",
      "execution_count": null,
      "metadata": {
        "id": "a3BEwZs7MyG3",
        "outputId": "4c38a690-15e9-4da5-bb2c-f0f3471ed9e9"
      },
      "outputs": [
        {
          "data": {
            "text/plain": [
              "[<matplotlib.lines.Line2D at 0x7fe638e1b790>]"
            ]
          },
          "execution_count": 218,
          "metadata": {},
          "output_type": "execute_result"
        },
        {
          "data": {
            "image/png": "[encoded data removed]",
            "text/plain": [
              "<Figure size 432x288 with 1 Axes>"
            ]
          },
          "metadata": {
            "needs_background": "light"
          },
          "output_type": "display_data"
        }
      ],
      "source": [
        "plt.scatter(y_test,predictions)\n",
        "plt.plot(y_test,y_test,'r')"
      ]
    },
    {
      "cell_type": "code",
      "execution_count": null,
      "metadata": {
        "id": "UY4g-XPEMyG4"
      },
      "outputs": [],
      "source": [
        "# predict "
      ]
    },
    {
      "cell_type": "markdown",
      "metadata": {
        "id": "0Ae-TdmrNIXe"
      },
      "source": [
        "# Start of SVR"
      ]
    },
    {
      "cell_type": "code",
      "source": [
        "from sklearn.svm import SVR"
      ],
      "metadata": {
        "id": "czobt-_kNKcF"
      },
      "execution_count": null,
      "outputs": []
    },
    {
      "cell_type": "code",
      "source": [
        "regressor = SVR(kernel= 'rbf')\n",
        "regressor.fit(x_train, y_train)"
      ],
      "metadata": {
        "id": "B8v66D0KNKnq",
        "colab": {
          "base_uri": "https://localhost:8080/"
        },
        "outputId": "3099322f-0f41-44b9-c819-9a2bfd60362f"
      },
      "execution_count": null,
      "outputs": [
        {
          "output_type": "execute_result",
          "data": {
            "text/plain": [
              "SVR()"
            ]
          },
          "metadata": {},
          "execution_count": 10
        }
      ]
    },
    {
      "cell_type": "markdown",
      "source": [
        "Predict Model"
      ],
      "metadata": {
        "id": "xSxbw6xzPXje"
      }
    },
    {
      "cell_type": "code",
      "source": [
        "predictions_svr = regressor.predict(x_test)\n",
        "predictions_svr.shape"
      ],
      "metadata": {
        "colab": {
          "base_uri": "https://localhost:8080/"
        },
        "id": "J8296q13PW9s",
        "outputId": "7646d1f3-ace3-4046-8646-f15884ee8951"
      },
      "execution_count": null,
      "outputs": [
        {
          "output_type": "execute_result",
          "data": {
            "text/plain": [
              "(102,)"
            ]
          },
          "metadata": {},
          "execution_count": 11
        }
      ]
    },
    {
      "cell_type": "markdown",
      "source": [
        "Model Score"
      ],
      "metadata": {
        "id": "O4b98NRoQOnL"
      }
    },
    {
      "cell_type": "code",
      "source": [
        "regressor.score(x_test, y_test)"
      ],
      "metadata": {
        "colab": {
          "base_uri": "https://localhost:8080/"
        },
        "id": "nzCFwIXtPXGy",
        "outputId": "d317449e-54e8-443f-daf4-4ed5d28258a4"
      },
      "execution_count": null,
      "outputs": [
        {
          "output_type": "execute_result",
          "data": {
            "text/plain": [
              "0.08746060282552581"
            ]
          },
          "metadata": {},
          "execution_count": 12
        }
      ]
    },
    {
      "cell_type": "markdown",
      "source": [
        "Visualize Results"
      ],
      "metadata": {
        "id": "NLthFJlbPfwv"
      }
    },
    {
      "cell_type": "code",
      "source": [
        "plt.scatter(y_test, predictions_svr, color = 'red')\n",
        "#plt.plot(predictions, y_test, color = 'blue')\n",
        "plt.title('SVR Results')\n",
        "plt.xlabel('y_test')\n",
        "plt.ylabel('predictions_svr')"
      ],
      "metadata": {
        "colab": {
          "base_uri": "https://localhost:8080/",
          "height": 313
        },
        "id": "5H_W9q7FQRlN",
        "outputId": "f312efa7-8dc8-4ef3-d918-369d0ea8d625"
      },
      "execution_count": null,
      "outputs": [
        {
          "output_type": "execute_result",
          "data": {
            "text/plain": [
              "Text(0, 0.5, 'predictions_svr')"
            ]
          },
          "metadata": {},
          "execution_count": 13
        },
        {
          "output_type": "display_data",
          "data": {
            "text/plain": [
              "<Figure size 432x288 with 1 Axes>"
            ],
            "image/png": "[encoded data removed]"
          },
          "metadata": {
            "needs_background": "light"
          }
        }
      ]
    },
    {
      "cell_type": "markdown",
      "source": [
        "# Tuning Process\n",
        "First identify current parameters, then systematically change them to improve model"
      ],
      "metadata": {
        "id": "Up0Hz4Ntk4hD"
      }
    },
    {
      "cell_type": "code",
      "source": [
        "regressor.get_params()"
      ],
      "metadata": {
        "colab": {
          "base_uri": "https://localhost:8080/"
        },
        "id": "JYNGnE-FlCDb",
        "outputId": "4f766bcc-4409-40f3-cc47-80992a0a507a"
      },
      "execution_count": null,
      "outputs": [
        {
          "output_type": "execute_result",
          "data": {
            "text/plain": [
              "{'C': 1.0,\n",
              " 'cache_size': 200,\n",
              " 'coef0': 0.0,\n",
              " 'degree': 3,\n",
              " 'epsilon': 0.1,\n",
              " 'gamma': 'scale',\n",
              " 'kernel': 'rbf',\n",
              " 'max_iter': -1,\n",
              " 'shrinking': True,\n",
              " 'tol': 0.001,\n",
              " 'verbose': False}"
            ]
          },
          "metadata": {},
          "execution_count": 14
        }
      ]
    },
    {
      "cell_type": "markdown",
      "source": [
        "Parameters to change during tuning\n",
        "\n",
        "Kernel:  linear, poly, sigmoid\n",
        "\n",
        "epsilon: .15, 0.2, 0.25 \n",
        "\n",
        "C:  2.0, 3.0, 5.0, 6.0, 7.5, 10.0, 15.0\n",
        "\n",
        "degree:  14"
      ],
      "metadata": {
        "id": "v-6mAMMVlSrj"
      }
    },
    {
      "cell_type": "markdown",
      "source": [
        "# Kernal Tuning"
      ],
      "metadata": {
        "id": "9Zb_jdMtzrlu"
      }
    },
    {
      "cell_type": "markdown",
      "source": [
        "Results:  kernel = 'linear'"
      ],
      "metadata": {
        "id": "aOVG99_x2QbU"
      }
    },
    {
      "cell_type": "code",
      "source": [
        "regressor_kern = SVR(kernel= 'linear')\n",
        "regressor_kern.fit(x_train, y_train)"
      ],
      "metadata": {
        "colab": {
          "base_uri": "https://localhost:8080/"
        },
        "outputId": "0e830d69-fa30-4236-c371-c05d408cde83",
        "id": "aLT1PDWimA1F"
      },
      "execution_count": null,
      "outputs": [
        {
          "output_type": "execute_result",
          "data": {
            "text/plain": [
              "SVR(kernel='linear')"
            ]
          },
          "metadata": {},
          "execution_count": 15
        }
      ]
    },
    {
      "cell_type": "markdown",
      "source": [
        "Model Score"
      ],
      "metadata": {
        "id": "XPc_nGV6mA1G"
      }
    },
    {
      "cell_type": "code",
      "source": [
        "regressor_kern.score(x_test, y_test)"
      ],
      "metadata": {
        "colab": {
          "base_uri": "https://localhost:8080/"
        },
        "outputId": "a5abe915-2bcd-486a-dc87-a74fdc4027f6",
        "id": "K3MZXz3bmA1G"
      },
      "execution_count": null,
      "outputs": [
        {
          "output_type": "execute_result",
          "data": {
            "text/plain": [
              "0.6763595229603985"
            ]
          },
          "metadata": {},
          "execution_count": 16
        }
      ]
    },
    {
      "cell_type": "markdown",
      "source": [
        "**increased to 67.63595229603985%, keep this change.  All other options were well below this score.**"
      ],
      "metadata": {
        "id": "RqyarWTRmOp6"
      }
    },
    {
      "cell_type": "markdown",
      "source": [
        "Results:  kernel = 'poly'"
      ],
      "metadata": {
        "id": "CkSSZWHr2ctI"
      }
    },
    {
      "cell_type": "code",
      "source": [
        "regressor_kern = SVR(kernel= 'poly')\n",
        "regressor_kern.fit(x_train, y_train)"
      ],
      "metadata": {
        "colab": {
          "base_uri": "https://localhost:8080/"
        },
        "outputId": "c6d02dbf-ac9a-42c1-c88c-790b3c64a27f",
        "id": "ToAOXsWV2ctJ"
      },
      "execution_count": null,
      "outputs": [
        {
          "output_type": "execute_result",
          "data": {
            "text/plain": [
              "SVR(kernel='poly')"
            ]
          },
          "metadata": {},
          "execution_count": 17
        }
      ]
    },
    {
      "cell_type": "markdown",
      "source": [
        "Model Score"
      ],
      "metadata": {
        "id": "J3MVQSxU2ctJ"
      }
    },
    {
      "cell_type": "code",
      "source": [
        "regressor_kern.score(x_test, y_test)"
      ],
      "metadata": {
        "colab": {
          "base_uri": "https://localhost:8080/"
        },
        "outputId": "9f889a5e-5267-4bbe-d2d7-1a13e4db295a",
        "id": "sJwbPtIn2ctJ"
      },
      "execution_count": null,
      "outputs": [
        {
          "output_type": "execute_result",
          "data": {
            "text/plain": [
              "0.13614902792661177"
            ]
          },
          "metadata": {},
          "execution_count": 18
        }
      ]
    },
    {
      "cell_type": "markdown",
      "source": [
        "score decreased to 13.614902792661177%"
      ],
      "metadata": {
        "id": "hAUrU50D2ctJ"
      }
    },
    {
      "cell_type": "markdown",
      "source": [
        "Results:  kernel = 'sigmoid'"
      ],
      "metadata": {
        "id": "RDx_NFy22uRX"
      }
    },
    {
      "cell_type": "code",
      "source": [
        "regressor_kern = SVR(kernel= 'sigmoid')\n",
        "regressor_kern.fit(x_train, y_train)"
      ],
      "metadata": {
        "colab": {
          "base_uri": "https://localhost:8080/"
        },
        "outputId": "fed723c8-60ed-4b8e-b142-d8e563a6275d",
        "id": "xo_8ZY7j2uRX"
      },
      "execution_count": null,
      "outputs": [
        {
          "output_type": "execute_result",
          "data": {
            "text/plain": [
              "SVR(kernel='sigmoid')"
            ]
          },
          "metadata": {},
          "execution_count": 19
        }
      ]
    },
    {
      "cell_type": "markdown",
      "source": [
        "Model Score"
      ],
      "metadata": {
        "id": "_F2pn9uX2uRX"
      }
    },
    {
      "cell_type": "code",
      "source": [
        "regressor_kern.score(x_test, y_test)"
      ],
      "metadata": {
        "colab": {
          "base_uri": "https://localhost:8080/"
        },
        "outputId": "7153fd1a-b178-4aae-958a-672c16bb61a8",
        "id": "tv1LFSdu2uRX"
      },
      "execution_count": null,
      "outputs": [
        {
          "output_type": "execute_result",
          "data": {
            "text/plain": [
              "-0.00339619883644926"
            ]
          },
          "metadata": {},
          "execution_count": 20
        }
      ]
    },
    {
      "cell_type": "markdown",
      "source": [
        "Score decreased to -00.339619883644926%"
      ],
      "metadata": {
        "id": "dvoTUHRN2uRX"
      }
    },
    {
      "cell_type": "markdown",
      "source": [
        "Kernal Tuning Results\n",
        "\n",
        "linear:  67.63595229603985%\n",
        "\n",
        "ploy:  13.614902792661177%\n",
        "\n",
        "sigmoid:  -00.339619883644926%\n",
        "\n",
        "**Keep linear tuning in model**"
      ],
      "metadata": {
        "id": "JnX-H9C660Ro"
      }
    },
    {
      "cell_type": "markdown",
      "source": [
        "# Epsilon Tuning"
      ],
      "metadata": {
        "id": "f1HQs4wZzv8D"
      }
    },
    {
      "cell_type": "markdown",
      "source": [
        "## Epsilon 0.15"
      ],
      "metadata": {
        "id": "DlwptQGT7fRb"
      }
    },
    {
      "cell_type": "code",
      "source": [
        "regressor_epsilon = SVR(kernel= 'linear', epsilon = 0.15)\n",
        "regressor_epsilon.fit(x_train, y_train)"
      ],
      "metadata": {
        "colab": {
          "base_uri": "https://localhost:8080/"
        },
        "outputId": "81a097e7-33b8-4727-cd02-48ed73be9ea3",
        "id": "RPhwfaYn7fRb"
      },
      "execution_count": null,
      "outputs": [
        {
          "output_type": "execute_result",
          "data": {
            "text/plain": [
              "SVR(epsilon=0.15, kernel='linear')"
            ]
          },
          "metadata": {},
          "execution_count": 21
        }
      ]
    },
    {
      "cell_type": "markdown",
      "source": [
        "Model Score"
      ],
      "metadata": {
        "id": "ouegAgjD7fRc"
      }
    },
    {
      "cell_type": "code",
      "source": [
        "regressor_epsilon.score(x_test, y_test)"
      ],
      "metadata": {
        "colab": {
          "base_uri": "https://localhost:8080/"
        },
        "outputId": "939207f6-33d8-4c98-c3ff-a78c4c6cb94f",
        "id": "pQIAPPXc7fRc"
      },
      "execution_count": null,
      "outputs": [
        {
          "output_type": "execute_result",
          "data": {
            "text/plain": [
              "0.676378815967517"
            ]
          },
          "metadata": {},
          "execution_count": 22
        }
      ]
    },
    {
      "cell_type": "markdown",
      "source": [
        "score changed to 67.6378815967517%"
      ],
      "metadata": {
        "id": "7xpypy3Z7fRc"
      }
    },
    {
      "cell_type": "markdown",
      "source": [
        "## Epsilon 0.2"
      ],
      "metadata": {
        "id": "Ka7GEOgD7Y1o"
      }
    },
    {
      "cell_type": "code",
      "source": [
        "regressor_epsilon = SVR(kernel= 'linear', epsilon = 0.2)\n",
        "regressor_epsilon.fit(x_train, y_train)"
      ],
      "metadata": {
        "colab": {
          "base_uri": "https://localhost:8080/"
        },
        "outputId": "4e112b3a-63d5-400f-948a-60c8c00f61ee",
        "id": "UA5sZNhAp4GN"
      },
      "execution_count": null,
      "outputs": [
        {
          "output_type": "execute_result",
          "data": {
            "text/plain": [
              "SVR(epsilon=0.2, kernel='linear')"
            ]
          },
          "metadata": {},
          "execution_count": 23
        }
      ]
    },
    {
      "cell_type": "markdown",
      "source": [
        "Model Score"
      ],
      "metadata": {
        "id": "mk1Gf8gYp4GU"
      }
    },
    {
      "cell_type": "code",
      "source": [
        "regressor_epsilon.score(x_test, y_test)"
      ],
      "metadata": {
        "colab": {
          "base_uri": "https://localhost:8080/"
        },
        "outputId": "e4fd69d2-f694-47d5-a702-851daa32dbf3",
        "id": "_mUlOPrWp4GU"
      },
      "execution_count": null,
      "outputs": [
        {
          "output_type": "execute_result",
          "data": {
            "text/plain": [
              "0.6745601128234539"
            ]
          },
          "metadata": {},
          "execution_count": 24
        }
      ]
    },
    {
      "cell_type": "markdown",
      "source": [
        "Score changed to 67.45601128234539%"
      ],
      "metadata": {
        "id": "d21Z4ZhKqjX2"
      }
    },
    {
      "cell_type": "markdown",
      "source": [
        "## Epsilon 0.25"
      ],
      "metadata": {
        "id": "NbzoUpN07gE8"
      }
    },
    {
      "cell_type": "code",
      "source": [
        "regressor_epsilon = SVR(kernel= 'linear', epsilon = 0.25)\n",
        "regressor_epsilon.fit(x_train, y_train)"
      ],
      "metadata": {
        "colab": {
          "base_uri": "https://localhost:8080/"
        },
        "outputId": "57eebb2f-5c08-4ca0-9d15-82522532eba0",
        "id": "Q_frPc_c7gE9"
      },
      "execution_count": null,
      "outputs": [
        {
          "output_type": "execute_result",
          "data": {
            "text/plain": [
              "SVR(epsilon=0.25, kernel='linear')"
            ]
          },
          "metadata": {},
          "execution_count": 25
        }
      ]
    },
    {
      "cell_type": "markdown",
      "source": [
        "Model Score"
      ],
      "metadata": {
        "id": "pCuZPEMP7gE9"
      }
    },
    {
      "cell_type": "code",
      "source": [
        "regressor_epsilon.score(x_test, y_test)"
      ],
      "metadata": {
        "colab": {
          "base_uri": "https://localhost:8080/"
        },
        "outputId": "dc25cb31-f01d-4388-ba6c-e015675f1d77",
        "id": "P_gD8IfH7gE9"
      },
      "execution_count": null,
      "outputs": [
        {
          "output_type": "execute_result",
          "data": {
            "text/plain": [
              "0.6744715616642741"
            ]
          },
          "metadata": {},
          "execution_count": 26
        }
      ]
    },
    {
      "cell_type": "markdown",
      "source": [
        "score changed to 67.44715616642741%"
      ],
      "metadata": {
        "id": "JDujHqoQ8qFx"
      }
    },
    {
      "cell_type": "markdown",
      "source": [
        "Epsilon Tuning Results\n",
        "\n",
        "Epsilon = 0.15:  67.6378815967517%\n",
        "\n",
        "Epsilon = 0.2:  67.45601128234539%\n",
        "\n",
        "Epsilon = 0.25:  67.44715616642741%\n",
        "\n",
        "**Keep Epsilon = 0.2 in model**"
      ],
      "metadata": {
        "id": "BARUAQto7gE9"
      }
    },
    {
      "cell_type": "markdown",
      "source": [
        "# C Tuning"
      ],
      "metadata": {
        "id": "c4MSPx9azzqW"
      }
    },
    {
      "cell_type": "markdown",
      "source": [
        "## Results for C = 2.0"
      ],
      "metadata": {
        "id": "cysJVPfT0EOj"
      }
    },
    {
      "cell_type": "code",
      "source": [
        "regressor_C = SVR(kernel= 'linear', epsilon = 0.2, C=2)\n",
        "regressor_C.fit(x_train, y_train)"
      ],
      "metadata": {
        "colab": {
          "base_uri": "https://localhost:8080/"
        },
        "outputId": "5c8629a3-837d-48f4-d990-b6dedfb8d8b6",
        "id": "uuabQwvWz_mC"
      },
      "execution_count": null,
      "outputs": [
        {
          "output_type": "execute_result",
          "data": {
            "text/plain": [
              "SVR(C=2, epsilon=0.2, kernel='linear')"
            ]
          },
          "metadata": {},
          "execution_count": 27
        }
      ]
    },
    {
      "cell_type": "markdown",
      "source": [
        "Model Score"
      ],
      "metadata": {
        "id": "FM3Lz1w-z_mD"
      }
    },
    {
      "cell_type": "code",
      "source": [
        "regressor_C.score(x_test, y_test)"
      ],
      "metadata": {
        "colab": {
          "base_uri": "https://localhost:8080/"
        },
        "outputId": "8c71d9f0-84d4-42f1-bd8f-3d1489a179d1",
        "id": "UkYowqOwz_mD"
      },
      "execution_count": null,
      "outputs": [
        {
          "output_type": "execute_result",
          "data": {
            "text/plain": [
              "0.6786340178439385"
            ]
          },
          "metadata": {},
          "execution_count": 28
        }
      ]
    },
    {
      "cell_type": "markdown",
      "source": [
        "score changed to 67.86340178439385%"
      ],
      "metadata": {
        "id": "-nNl5-fg1GA7"
      }
    },
    {
      "cell_type": "markdown",
      "source": [
        "## Results for C = 3.0"
      ],
      "metadata": {
        "id": "epSVVHOF0UGl"
      }
    },
    {
      "cell_type": "code",
      "source": [
        "regressor_C = SVR(kernel= 'linear', epsilon = 0.2, C=3)\n",
        "regressor_C.fit(x_train, y_train)"
      ],
      "metadata": {
        "colab": {
          "base_uri": "https://localhost:8080/"
        },
        "outputId": "17c67f1a-9dc5-4067-f5b1-155ec7cdd999",
        "id": "rla-itpV02N_"
      },
      "execution_count": null,
      "outputs": [
        {
          "output_type": "execute_result",
          "data": {
            "text/plain": [
              "SVR(C=3, epsilon=0.2, kernel='linear')"
            ]
          },
          "metadata": {},
          "execution_count": 29
        }
      ]
    },
    {
      "cell_type": "markdown",
      "source": [
        "Model Score"
      ],
      "metadata": {
        "id": "Qv8L6bnU02N_"
      }
    },
    {
      "cell_type": "code",
      "source": [
        "regressor_C.score(x_test, y_test)"
      ],
      "metadata": {
        "colab": {
          "base_uri": "https://localhost:8080/"
        },
        "outputId": "0c745bf7-eb22-473e-aaae-ed47d8ca53d4",
        "id": "okj8XRA302OA"
      },
      "execution_count": null,
      "outputs": [
        {
          "output_type": "execute_result",
          "data": {
            "text/plain": [
              "0.6814457272821559"
            ]
          },
          "metadata": {},
          "execution_count": 30
        }
      ]
    },
    {
      "cell_type": "markdown",
      "source": [
        "Score changed to 68.14457272821559%"
      ],
      "metadata": {
        "id": "NabTca751P84"
      }
    },
    {
      "cell_type": "markdown",
      "source": [
        "## Results for C = 5.0"
      ],
      "metadata": {
        "id": "_P1Y7qbl0VzY"
      }
    },
    {
      "cell_type": "code",
      "source": [
        "regressor_C = SVR(kernel= 'linear', epsilon = 0.2, C=5)\n",
        "regressor_C.fit(x_train, y_train)"
      ],
      "metadata": {
        "colab": {
          "base_uri": "https://localhost:8080/"
        },
        "outputId": "800adeb7-0e91-4e22-e047-37f5207597ae",
        "id": "I0dmRTsv021b"
      },
      "execution_count": null,
      "outputs": [
        {
          "output_type": "execute_result",
          "data": {
            "text/plain": [
              "SVR(C=5, epsilon=0.2, kernel='linear')"
            ]
          },
          "metadata": {},
          "execution_count": 31
        }
      ]
    },
    {
      "cell_type": "markdown",
      "source": [
        "Model Score"
      ],
      "metadata": {
        "id": "oqJbhu_z021b"
      }
    },
    {
      "cell_type": "code",
      "source": [
        "regressor_C.score(x_test, y_test)"
      ],
      "metadata": {
        "colab": {
          "base_uri": "https://localhost:8080/"
        },
        "outputId": "f1fd2b72-ac39-4448-a807-07472c242b3e",
        "id": "i53Cl-iq021b"
      },
      "execution_count": null,
      "outputs": [
        {
          "output_type": "execute_result",
          "data": {
            "text/plain": [
              "0.6879443123442981"
            ]
          },
          "metadata": {},
          "execution_count": 32
        }
      ]
    },
    {
      "cell_type": "markdown",
      "source": [
        "Score changed to 68.79443123442981%"
      ],
      "metadata": {
        "id": "GlYY0vpk1Uim"
      }
    },
    {
      "cell_type": "markdown",
      "source": [
        "## Results for C = 6.0"
      ],
      "metadata": {
        "id": "v7jBP0uw0YUe"
      }
    },
    {
      "cell_type": "code",
      "source": [
        "regressor_C = SVR(kernel= 'linear', epsilon = 0.2, C=6)\n",
        "regressor_C.fit(x_train, y_train)"
      ],
      "metadata": {
        "colab": {
          "base_uri": "https://localhost:8080/"
        },
        "outputId": "84cae28e-faaf-4097-a6fe-8e75826e3578",
        "id": "sP9EgpU3qqoN"
      },
      "execution_count": null,
      "outputs": [
        {
          "output_type": "execute_result",
          "data": {
            "text/plain": [
              "SVR(C=6, epsilon=0.2, kernel='linear')"
            ]
          },
          "metadata": {},
          "execution_count": 33
        }
      ]
    },
    {
      "cell_type": "markdown",
      "source": [
        "Model Score"
      ],
      "metadata": {
        "id": "Y5PWbEFcqqoN"
      }
    },
    {
      "cell_type": "code",
      "source": [
        "regressor_C.score(x_test, y_test)"
      ],
      "metadata": {
        "colab": {
          "base_uri": "https://localhost:8080/"
        },
        "outputId": "c50de3e5-dbda-402e-849c-d9d46aec62ab",
        "id": "bqPj-zLmqqoN"
      },
      "execution_count": null,
      "outputs": [
        {
          "output_type": "execute_result",
          "data": {
            "text/plain": [
              "0.68810987505182"
            ]
          },
          "metadata": {},
          "execution_count": 34
        }
      ]
    },
    {
      "cell_type": "markdown",
      "source": [
        "score changed to 68.810987505182%"
      ],
      "metadata": {
        "id": "gofMHo1WBoMB"
      }
    },
    {
      "cell_type": "markdown",
      "source": [
        "## Results for C = 7.5"
      ],
      "metadata": {
        "id": "sg6C_7AL0ZAs"
      }
    },
    {
      "cell_type": "code",
      "source": [
        "regressor_C = SVR(kernel= 'linear', epsilon = 0.2, C=7.5)\n",
        "regressor_C.fit(x_train, y_train)"
      ],
      "metadata": {
        "colab": {
          "base_uri": "https://localhost:8080/"
        },
        "outputId": "f6bf04b5-9670-4a1e-e06d-09d9f2a241b1",
        "id": "PmrfczLO07CQ"
      },
      "execution_count": null,
      "outputs": [
        {
          "output_type": "execute_result",
          "data": {
            "text/plain": [
              "SVR(C=7.5, epsilon=0.2, kernel='linear')"
            ]
          },
          "metadata": {},
          "execution_count": 35
        }
      ]
    },
    {
      "cell_type": "markdown",
      "source": [
        "Model Score"
      ],
      "metadata": {
        "id": "3wDWQkM007CQ"
      }
    },
    {
      "cell_type": "code",
      "source": [
        "regressor_C.score(x_test, y_test)"
      ],
      "metadata": {
        "colab": {
          "base_uri": "https://localhost:8080/"
        },
        "outputId": "a69a8b3a-19ba-4a85-afe1-a4c31ca0c612",
        "id": "4JmOqHXv07CQ"
      },
      "execution_count": null,
      "outputs": [
        {
          "output_type": "execute_result",
          "data": {
            "text/plain": [
              "0.6787340820537053"
            ]
          },
          "metadata": {},
          "execution_count": 36
        }
      ]
    },
    {
      "cell_type": "markdown",
      "source": [
        "Score changed to 67.87340820537053%"
      ],
      "metadata": {
        "id": "Z_q8xj7rBtFY"
      }
    },
    {
      "cell_type": "markdown",
      "source": [
        "## Results for C = 10.0"
      ],
      "metadata": {
        "id": "BAIMKBw50Yvi"
      }
    },
    {
      "cell_type": "code",
      "source": [
        "regressor_C = SVR(kernel= 'linear', epsilon = 0.2, C=10.0)\n",
        "regressor_C.fit(x_train, y_train)"
      ],
      "metadata": {
        "colab": {
          "base_uri": "https://localhost:8080/"
        },
        "outputId": "bb28a52d-c7f8-4c37-f9ae-d8babaa4afe3",
        "id": "Et0hewTL09E1"
      },
      "execution_count": null,
      "outputs": [
        {
          "output_type": "execute_result",
          "data": {
            "text/plain": [
              "SVR(C=10.0, epsilon=0.2, kernel='linear')"
            ]
          },
          "metadata": {},
          "execution_count": 37
        }
      ]
    },
    {
      "cell_type": "markdown",
      "source": [
        "Model Score"
      ],
      "metadata": {
        "id": "K8iUUAdQ09E1"
      }
    },
    {
      "cell_type": "code",
      "source": [
        "regressor_C.score(x_test, y_test)"
      ],
      "metadata": {
        "colab": {
          "base_uri": "https://localhost:8080/"
        },
        "outputId": "12a72da8-39ce-455d-e116-bdbe5db60c73",
        "id": "6j0yKjfK09E1"
      },
      "execution_count": null,
      "outputs": [
        {
          "output_type": "execute_result",
          "data": {
            "text/plain": [
              "0.670188913331756"
            ]
          },
          "metadata": {},
          "execution_count": 38
        }
      ]
    },
    {
      "cell_type": "markdown",
      "source": [
        "score changed to 67.0188913331756%"
      ],
      "metadata": {
        "id": "ajR0k0A9BzLM"
      }
    },
    {
      "cell_type": "markdown",
      "source": [
        "## Results for C = 15.0"
      ],
      "metadata": {
        "id": "Iwtih4G_0NOf"
      }
    },
    {
      "cell_type": "code",
      "source": [
        "regressor_C = SVR(kernel= 'linear', epsilon = 0.2, C=15.0)\n",
        "regressor_C.fit(x_train, y_train)"
      ],
      "metadata": {
        "colab": {
          "base_uri": "https://localhost:8080/"
        },
        "outputId": "9916c4ee-5f3a-489f-c026-f4908e8d94fd",
        "id": "ntfHN1_a08gt"
      },
      "execution_count": null,
      "outputs": [
        {
          "output_type": "execute_result",
          "data": {
            "text/plain": [
              "SVR(C=15.0, epsilon=0.2, kernel='linear')"
            ]
          },
          "metadata": {},
          "execution_count": 39
        }
      ]
    },
    {
      "cell_type": "markdown",
      "source": [
        "Model Score"
      ],
      "metadata": {
        "id": "QMfsDmTz08gt"
      }
    },
    {
      "cell_type": "code",
      "source": [
        "regressor_C.score(x_test, y_test)"
      ],
      "metadata": {
        "colab": {
          "base_uri": "https://localhost:8080/"
        },
        "outputId": "34da63e1-5a8d-4d98-b5ec-f29ee22eb4be",
        "id": "xIRxm78_08gu"
      },
      "execution_count": null,
      "outputs": [
        {
          "output_type": "execute_result",
          "data": {
            "text/plain": [
              "0.6678169311378781"
            ]
          },
          "metadata": {},
          "execution_count": 40
        }
      ]
    },
    {
      "cell_type": "markdown",
      "source": [
        "score changed to 66.78169311378781%"
      ],
      "metadata": {
        "id": "awA5r1ITB4Xh"
      }
    },
    {
      "cell_type": "markdown",
      "source": [
        "## C values and accuracy scores\n",
        "\n",
        "C=2:  0.6786340178439385\n",
        "\n",
        "C=3:  0.6814457272821559\n",
        "\n",
        "C=5:  0.6879443123442981\n",
        "\n",
        "C=6:  0.68810987505182\n",
        "\n",
        "C=7.5:  0.6787340820537053\n",
        "\n",
        "C=10:  0.670188913331756\n",
        "\n",
        "c=15:  0.6678169311378781\n",
        "\n",
        "**C=6 seems to be the best setting with accuracy score of 68.81%.  Keep C=6.0**"
      ],
      "metadata": {
        "id": "KuJ1dYP4r0ci"
      }
    },
    {
      "cell_type": "markdown",
      "source": [
        "# Degree Tuning"
      ],
      "metadata": {
        "id": "WB3xAb2Oz2kb"
      }
    },
    {
      "cell_type": "markdown",
      "source": [
        "Given that there are 13 variables, we change degree value to 14 and look for imporovements to score\n"
      ],
      "metadata": {
        "id": "IU81jdj69cPE"
      }
    },
    {
      "cell_type": "code",
      "source": [
        "regressor_degree = SVR(kernel= 'linear', epsilon = 0.2, C=6, degree=14)\n",
        "regressor_degree.fit(x_train, y_train)"
      ],
      "metadata": {
        "colab": {
          "base_uri": "https://localhost:8080/"
        },
        "outputId": "e71efd16-dbca-4268-e653-32eed8b63c69",
        "id": "lFQ_3NK3ttDR"
      },
      "execution_count": null,
      "outputs": [
        {
          "output_type": "execute_result",
          "data": {
            "text/plain": [
              "SVR(C=6, degree=14, epsilon=0.2, kernel='linear')"
            ]
          },
          "metadata": {},
          "execution_count": 41
        }
      ]
    },
    {
      "cell_type": "markdown",
      "source": [
        "Model Score"
      ],
      "metadata": {
        "id": "cdME7QCrttDS"
      }
    },
    {
      "cell_type": "code",
      "source": [
        "regressor_degree.score(x_test, y_test)"
      ],
      "metadata": {
        "colab": {
          "base_uri": "https://localhost:8080/"
        },
        "outputId": "73a3b5b4-110f-40b7-b308-4a92a40cfa53",
        "id": "VSSjupNGttDS"
      },
      "execution_count": null,
      "outputs": [
        {
          "output_type": "execute_result",
          "data": {
            "text/plain": [
              "0.68810987505182"
            ]
          },
          "metadata": {},
          "execution_count": 42
        }
      ]
    },
    {
      "cell_type": "markdown",
      "source": [
        "as expected score did not change:  68.810987505182%\n",
        "\n",
        " Conclude that no change to degree is required."
      ],
      "metadata": {
        "id": "fk1Hz-z6-UrN"
      }
    },
    {
      "cell_type": "code",
      "source": [
        "regressor_final = SVR(kernel= 'linear', epsilon = 0.2, C=6)\n",
        "regressor_final.fit(x_train, y_train)\n",
        "regressor_final.score(x_test, y_test)"
      ],
      "metadata": {
        "colab": {
          "base_uri": "https://localhost:8080/"
        },
        "outputId": "124892a5-3658-4c04-d541-fe4bd7780667",
        "id": "tmaUrJof_8qT"
      },
      "execution_count": null,
      "outputs": [
        {
          "output_type": "execute_result",
          "data": {
            "text/plain": [
              "0.68810987505182"
            ]
          },
          "metadata": {},
          "execution_count": 43
        }
      ]
    },
    {
      "cell_type": "markdown",
      "source": [
        "# Conclusions to model parameters\n",
        "\n",
        "new model to be the following:\n",
        "\n",
        "SVR(kernel= 'linear', epsilon = 0.2, C=6)\n",
        "\n",
        "With score of approx.  68.81099%"
      ],
      "metadata": {
        "id": "VsuQi0IZ_M-5"
      }
    }
  ],
  "metadata": {
    "colab": {
      "provenance": [],
      "include_colab_link": true
    },
    "kernelspec": {
      "display_name": "Python 3",
      "language": "python",
      "name": "python3"
    },
    "language_info": {
      "codemirror_mode": {
        "name": "ipython",
        "version": 3
      },
      "file_extension": ".py",
      "mimetype": "text/x-python",
      "name": "python",
      "nbconvert_exporter": "python",
      "pygments_lexer": "ipython3",
      "version": "3.8.5"
    }
  },
  "nbformat": 4,
  "nbformat_minor": 0
}